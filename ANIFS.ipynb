{
 "cells": [
  {
   "cell_type": "code",
   "execution_count": 1,
   "metadata": {},
   "outputs": [],
   "source": [
    "import matplotlib.pyplot as plt\n",
    "import numpy as np\n",
    "import math"
   ]
  },
  {
   "cell_type": "code",
   "execution_count": 2,
   "metadata": {},
   "outputs": [],
   "source": [
    "def Function(x):\n",
    "    return x**2\n",
    "\n",
    "def GaussianFunction(arr, x):\n",
    "    x1 = arr[0]\n",
    "    x2 = arr[1]\n",
    "    sigma1 = arr[2]\n",
    "    sigma2 = arr[3]\n",
    "    \n",
    "    if x < x1:\n",
    "        return math.exp( - ( x - x1 )**2 / ( 2 * sigma1**2 ) )\n",
    "    elif x >= x1 and x <= x2:\n",
    "        return  1.0\n",
    "    else:\n",
    "        return math.exp( - ( x2 - x )**2 / ( 2 * sigma2**2 ) )"
   ]
  },
  {
   "cell_type": "code",
   "execution_count": 3,
   "metadata": {},
   "outputs": [
    {
     "name": "stdout",
     "output_type": "stream",
     "text": [
      "[[0.2 0.2 0.2 0.2]\n",
      " [0.4 0.4 0.2 0.2]\n",
      " [0.6 0.6 0.2 0.2]\n",
      " [0.8 0.8 0.2 0.2]]\n"
     ]
    }
   ],
   "source": [
    "a= 0\n",
    "b= 1\n",
    "m = 20\n",
    "n = 4\n",
    "\n",
    "x = np.arange(a,b, (a+b)/m )\n",
    "y = Function(x)\n",
    "\n",
    "\n",
    "predicted_y = np.zeros(m)\n",
    "x1 = x2 = (a+b)/2\n",
    "\n",
    "A_membership = np.zeros((n,4))\n",
    "\n",
    "#                    x1  x2 sigma1, sigma2\n",
    "A_membership[0,:] = [ 0.2, 0.2, 0.2, 0.2 ]\n",
    "A_membership[1,:] = [ 0.4, 0.4, 0.2, 0.2 ]\n",
    "A_membership[2,:] = [ 0.6, 0.6, 0.2, 0.2 ]\n",
    "A_membership[3,:] = [ 0.8, 0.8, 0.2, 0.2 ]\n",
    "\n",
    "print (A_membership)\n",
    "w = np.random.rand( n )\n",
    "\n",
    "learning_rate = 0.0001\n",
    "error = 100\n",
    "while error > 0.005:\n",
    "    for i in range(m):\n",
    "\n",
    "        num = 0\n",
    "        for j in range(n):\n",
    "            num += GaussianFunction( A_membership[j], x[i] )* w[j]\n",
    "        den = 0\n",
    "        for j in range(n):\n",
    "            den += GaussianFunction( A_membership[j], x[i] )\n",
    "\n",
    "        predicted_y[i] = num / den \n",
    "\n",
    "    error = np.sum( (predicted_y - y)**2 ) / 2\n",
    "\n",
    "    E = predicted_y - y\n",
    "    for j in range(n):\n",
    "        \n",
    "        del_w = 0\n",
    "        for i in range(m):\n",
    "            del_w += E[i] * GaussianFunction( A_membership[j], x[i])\n",
    "        \n",
    "        w[j] -= learning_rate *  del_w "
   ]
  },
  {
   "cell_type": "code",
   "execution_count": 4,
   "metadata": {
    "scrolled": true
   },
   "outputs": [
    {
     "name": "stdout",
     "output_type": "stream",
     "text": [
      "[0.   0.05 0.1  0.15 0.2  0.25 0.3  0.35 0.4  0.45 0.5  0.55 0.6  0.65\n",
      " 0.7  0.75 0.8  0.85 0.9  0.95]\n",
      "[0.     0.0025 0.01   0.0225 0.04   0.0625 0.09   0.1225 0.16   0.2025\n",
      " 0.25   0.3025 0.36   0.4225 0.49   0.5625 0.64   0.7225 0.81   0.9025] \n",
      "\n",
      "[0.00583398 0.01278513 0.02144355 0.03223004 0.0457025  0.0626116\n",
      " 0.08395207 0.11096904 0.14505776 0.1875042  0.23907894 0.299607\n",
      " 0.36771432 0.44091259 0.51602435 0.58978089 0.65936643 0.72275173\n",
      " 0.77878337 0.82708753]\n",
      "0.0049999957060552925\n"
     ]
    }
   ],
   "source": [
    "print (x)\n",
    "print (y,\"\\n\")\n",
    "print(predicted_y)\n",
    "print (error)"
   ]
  },
  {
   "cell_type": "code",
   "execution_count": 5,
   "metadata": {},
   "outputs": [
    {
     "data": {
      "text/plain": [
       "Text(0, 0.5, 'Y')"
      ]
     },
     "execution_count": 5,
     "metadata": {},
     "output_type": "execute_result"
    },
    {
     "data": {
      "image/png": "[encoded data removed]",
      "text/plain": [
       "<Figure size 1152x576 with 2 Axes>"
      ]
     },
     "metadata": {
      "needs_background": "light"
     },
     "output_type": "display_data"
    }
   ],
   "source": [
    "fig, arr = plt.subplots(nrows=1, ncols=2, sharex=False, sharey=True)\n",
    "\n",
    "fig.set_figwidth(16)\n",
    "fig.set_figheight(8)\n",
    "\n",
    "arr[0].scatter (x, predicted_y, c='r' )\n",
    "arr[0].set_title('Predicted Result')\n",
    "arr[0].set_xlabel('X')\n",
    "arr[0].set_ylabel('Y')\n",
    "\n",
    "arr[1].scatter (x, y, c='b' )\n",
    "arr[1].set_title('Actual Result')\n",
    "arr[1].set_xlabel('X')\n",
    "arr[1].set_ylabel('Y')\n"
   ]
  },
  {
   "cell_type": "code",
   "execution_count": null,
   "metadata": {},
   "outputs": [],
   "source": []
  }
 ],
 "metadata": {
  "kernelspec": {
   "display_name": "Python 3",
   "language": "python",
   "name": "python3"
  },
  "language_info": {
   "codemirror_mode": {
    "name": "ipython",
    "version": 3
   },
   "file_extension": ".py",
   "mimetype": "text/x-python",
   "name": "python",
   "nbconvert_exporter": "python",
   "pygments_lexer": "ipython3",
   "version": "3.7.3"
  }
 },
 "nbformat": 4,
 "nbformat_minor": 2
}
